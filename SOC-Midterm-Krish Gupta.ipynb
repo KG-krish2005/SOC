{
 "cells": [
  {
   "cell_type": "markdown",
   "id": "fee584c4-dc2e-4c54-afc1-93a06b57ead6",
   "metadata": {},
   "source": [
    "<h1>Using Deep Q Learning to train RL agent to play CartPole-v1<h1>"
   ]
  },
  {
   "cell_type": "markdown",
   "id": "8dbe6430-6e31-4ce5-b2d8-5b9c5ad51b52",
   "metadata": {},
   "source": [
    "The goal of the game is to continuously decide between two moves left or right so that the attached pole remains straightup"
   ]
  },
  {
   "cell_type": "markdown",
   "id": "3214eb59-9576-48f8-bff4-47b2ebcf296f",
   "metadata": {},
   "source": [
    "I have already installed gymnasium for environment. Please install this if not already present using pip3 install gymnasium[classic_control].\n"
   ]
  },
  {
   "cell_type": "markdown",
   "id": "deb9e28b-4576-4ad9-bb98-6fe8cb50c241",
   "metadata": {},
   "source": [
    "Also install other dependencies if required"
   ]
  },
  {
   "cell_type": "code",
   "execution_count": 5,
   "id": "e79cc512-e683-487d-b3ef-8b09d975b161",
   "metadata": {},
   "outputs": [],
   "source": [
    "import gymnasium as gym\n",
    "import math\n",
    "import random\n",
    "import matplotlib\n",
    "import matplotlib.pyplot as plt\n",
    "from collections import namedtuple, deque\n",
    "from itertools import count\n",
    "#importing pytorch \n",
    "import torch\n",
    "import torch.nn as nn #neural networks\n",
    "import torch.optim as optim #optimization\n",
    "import torch.nn.functional as F\n",
    "from IPython import display\n",
    "env = gym.make(\"CartPole-v1\")\n",
    "#setting up matpoltlib\n",
    "plt.ion()\n",
    "device=\"cpu\"\n",
    "#i was not able to use the gpu \n"
   ]
  },
  {
   "cell_type": "markdown",
   "id": "fb752a78-c6af-4716-82be-95b1f6aa5f3e",
   "metadata": {},
   "source": [
    "The state in cartpole consists of four values<br>\n",
    "Cart Position<br>\n",
    "Cart Velocity<br>\n",
    "Pole Angle<br>\n",
    "Pole Angular Velocity<br>"
   ]
  },
  {
   "cell_type": "markdown",
   "id": "b723f99a-9f8e-413c-a0be-acc40128c1c1",
   "metadata": {},
   "source": [
    "Now here we define class replay memory to store experience tuples(Transition). It has a upper bound on number of transition stored(so i used double ended queue)"
   ]
  },
  {
   "cell_type": "code",
   "execution_count": 6,
   "id": "f2ce54a4-6638-486b-a97e-4a5b724959eb",
   "metadata": {},
   "outputs": [],
   "source": [
    "Transition = namedtuple('Transition',\n",
    "                        ('state', 'action', 'next_state', 'reward'))\n",
    "#this named tuple represent a single transition in our environment. It essentially maps (state, action) pairs to their (next_state, reward)\n",
    "\n",
    "\n",
    "class ReplayMemory:\n",
    "\n",
    "    def __init__(self, capacity):\n",
    "        self.memory = deque([], maxlen=capacity)  \n",
    "\n",
    "    def push(self, *args):\n",
    "        #pushing a transition\n",
    "        self.memory.append(Transition(*args))\n",
    "        #When you use *args in the function definition, it allows the function to accept any number of positional arguments.\n",
    "\n",
    "    def sample(self, batch_size):\n",
    "        #getting a random sample out of our memory of given length\n",
    "        return random.sample(self.memory, batch_size)\n",
    "\n",
    "    def __len__(self):\n",
    "        #Return the current size of internal memory\n",
    "        return len(self.memory)"
   ]
  },
  {
   "cell_type": "markdown",
   "id": "40aef92f-550d-43b1-a52d-901c911e59cd",
   "metadata": {},
   "source": [
    "Our model is a feedforward neural network that takes the difference between the current and previous screen patches as input. It has two outputs, representing \n",
    "𝑄(𝑠,left) and Q(s,right), where s is the input to the network. Essentially, the network aims to predict the expected return of taking each action given the current input."
   ]
  },
  {
   "cell_type": "markdown",
   "id": "caf6c242-3b93-4fe7-aa9a-d368f92a992a",
   "metadata": {},
   "source": [
    "Here we initialise our neural network class. I used relu to introduce some non linearity"
   ]
  },
  {
   "cell_type": "code",
   "execution_count": 7,
   "id": "ac48a718-ffe4-4e04-af3a-4fc83bb0a69b",
   "metadata": {},
   "outputs": [],
   "source": [
    "class DQN(nn.Module):\n",
    "\n",
    "    def __init__(self, n_observations, n_actions):\n",
    "        super(DQN, self).__init__()\n",
    "        self.layer1 = nn.Linear(n_observations, 256)\n",
    "        self.layer2 = nn.Linear(256, 128)\n",
    "        self.layer3 = nn.Linear(128, n_actions)\n",
    "    def forward(self, x):\n",
    "        x = F.relu(self.layer1(x))\n",
    "        x = F.relu(self.layer2(x))\n",
    "        return self.layer3(x)"
   ]
  },
  {
   "cell_type": "markdown",
   "id": "e010d577-c234-4c6c-a341-d00e4523a5aa",
   "metadata": {},
   "source": [
    "number of transition sampled from replay buffer is batch size <br>\n",
    "gamma is discount factor<br>\n",
    "eps start and end are initial and final value of epsilon<br>\n",
    "eps decay is the rate of exponential decay of epsilon<br>\n",
    "tau(the greek symbol) is the update rate of target network<br>\n",
    "lr is the learning rate of adamW optimiser\n",
    "\n",
    "The select_action function will choose an action based on an epsilon-greedy policy. This means that sometimes the action will be selected using our model, and other times a random action will be chosen uniformly. The probability of selecting a random action begins at EPS_START and decays exponentially towards EPS_END, with EPS_DECAY controlling the rate of this decay."
   ]
  },
  {
   "cell_type": "markdown",
   "id": "04da0278-11ef-4426-a83f-b5b6dc2cb310",
   "metadata": {},
   "source": [
    "plot duration function plots the duration of each episode and average of last 100 episode(which we use in evaluation)"
   ]
  },
  {
   "cell_type": "code",
   "execution_count": 8,
   "id": "b1dafc52-a276-4fe0-8724-ab17f4ef11b2",
   "metadata": {},
   "outputs": [],
   "source": [
    "BATCH_SIZE = 128\n",
    "GAMMA = 0.99\n",
    "EPS_START = 0.9\n",
    "EPS_END = 0.05\n",
    "EPS_DECAY = 1000\n",
    "TAU = 0.005\n",
    "LR = 1e-4\n",
    "\n",
    "# Get number of actions from gym action space(it is 2 in our case)\n",
    "n_actions = env.action_space.n\n",
    "# Get the number of state observations\n",
    "state, info = env.reset()\n",
    "n_observations = len(state)\n",
    "\n",
    "policy_net = DQN(n_observations, n_actions).to(device) # main network used for selecting actions during training\n",
    "target_net = DQN(n_observations, n_actions).to(device) #used to compute the target Q-values\n",
    "target_net.load_state_dict(policy_net.state_dict())\n",
    "\n",
    "optimizer = optim.AdamW(policy_net.parameters(), lr=LR) #we used adam optimiser\n",
    "memory = ReplayMemory(10000)\n",
    "\n",
    "\n",
    "steps_done = 0\n",
    "\n",
    "\n",
    "def select_action(state):\n",
    "    global steps_done\n",
    "    sample = random.random()\n",
    "    eps_threshold = EPS_END + (EPS_START - EPS_END) * \\\n",
    "        math.exp(-1. * steps_done / EPS_DECAY)\n",
    "    steps_done += 1\n",
    "    if sample > eps_threshold:\n",
    "        with torch.no_grad():\n",
    "            # t.max(1) will return the largest column value of each row.\n",
    "            # second column on max result is index of where max element was\n",
    "            # found, so we pick action with the larger expected reward.\n",
    "            return policy_net(state).max(1).indices.view(1, 1)\n",
    "            #in short here the policy network is used to select the action with the highest Q-value.\n",
    "    else:\n",
    "        return torch.tensor([[env.action_space.sample()]], device=device, dtype=torch.long) \n",
    "        #a random action is selected using the environment's action space.\n",
    "\n",
    "\n",
    "episode_durations = []\n",
    "\n",
    "\n",
    "def plot_durations(show_result=False):\n",
    "    plt.figure(1)\n",
    "    durations_t = torch.tensor(episode_durations, dtype=torch.float)\n",
    "    if show_result:\n",
    "        plt.title('Result')\n",
    "    else:\n",
    "        plt.clf()\n",
    "        plt.title('Training...')\n",
    "    plt.xlabel('Episode')\n",
    "    plt.ylabel('Duration')\n",
    "    plt.plot(durations_t.numpy())\n",
    "    # Take 100 episode averages and plot them too\n",
    "    if len(durations_t) >= 100:\n",
    "        means = durations_t.unfold(0, 100, 1).mean(1).view(-1)\n",
    "        means = torch.cat((torch.zeros(99), means))\n",
    "        plt.plot(means.numpy())\n",
    "    plt.pause(0.0001)  # pause a bit so that plots are updated\n",
    "    if not show_result:\n",
    "        display.display(plt.gcf())\n",
    "        display.clear_output(wait=True)\n",
    "    else:\n",
    "        display.display(plt.gcf())"
   ]
  },
  {
   "cell_type": "markdown",
   "id": "9f316afc-bc56-4f3b-ac31-ad6d9856c941",
   "metadata": {},
   "source": [
    "the optimise model function perform single step of optimisation. V(s) = 0 if s is a terminal state.The target network is updated at every step with a soft update controlled by the hyperparameter TAU."
   ]
  },
  {
   "cell_type": "markdown",
   "id": "67a91b33-0441-49a7-a650-0fc03932877e",
   "metadata": {},
   "source": [
    "1. Sample a batch of experiences.\n",
    "2. Concatenate tensors into a single one.\n",
    "3. Compute Q</sub>(s<sub>t</sub>, a<sub>t</sub>) using the policy network.\n",
    "4. Compute V<sub>t+1</sub>(s<sub>t+1</sub>) = max<sub>a</sub> Q(s<sub>t+1</sub>, a) using the target network.\n",
    "5. Combine into the loss.\n"
   ]
  },
  {
   "cell_type": "code",
   "execution_count": 9,
   "id": "4b0d094e-733e-4020-99ef-eb964f1934ec",
   "metadata": {},
   "outputs": [],
   "source": [
    "def optimize_model():\n",
    "    if len(memory) < BATCH_SIZE:\n",
    "        return\n",
    "    transitions = memory.sample(BATCH_SIZE)\n",
    "    # Transpose the batch (see https://stackoverflow.com/a/19343/3343043 for\n",
    "    # detailed explanation). This converts batch-array of Transitions\n",
    "    # to Transition of batch-arrays.\n",
    "    batch = Transition(*zip(*transitions))\n",
    "\n",
    "    # Compute a mask of non-final states and concatenate the batch elements\n",
    "    # (a final state would've been the one after which simulation ended)\n",
    "    non_final_mask = torch.tensor(tuple(map(lambda s: s is not None,\n",
    "                                          batch.next_state)), device=device, dtype=torch.bool)\n",
    "    non_final_next_states = torch.cat([s for s in batch.next_state\n",
    "                                                if s is not None])\n",
    "    state_batch = torch.cat(batch.state)\n",
    "    action_batch = torch.cat(batch.action)\n",
    "    reward_batch = torch.cat(batch.reward)\n",
    "\n",
    "    # Compute Q(s_t, a) - the model computes Q(s_t), then we select the\n",
    "    # columns of actions taken. These are the actions which would've been taken\n",
    "    # for each batch state according to policy_net\n",
    "    state_action_values = policy_net(state_batch).gather(1, action_batch)\n",
    "\n",
    "    # Compute V(s_{t+1}) for all next states.\n",
    "    # Expected values of actions for non_final_next_states are computed based\n",
    "    # on the \"older\" target_net; selecting their best reward with max(1).values\n",
    "    # This is merged based on the mask, such that we'll have either the expected\n",
    "    # state value or 0 in case the state was final.\n",
    "    next_state_values = torch.zeros(BATCH_SIZE, device=device)\n",
    "    with torch.no_grad():\n",
    "        next_state_values[non_final_mask] = target_net(non_final_next_states).max(1).values\n",
    "    # Compute the expected Q values\n",
    "    expected_state_action_values = (next_state_values * GAMMA) + reward_batch\n",
    "\n",
    "    # Compute Huber loss\n",
    "    criterion = nn.SmoothL1Loss()\n",
    "    loss = criterion(state_action_values, expected_state_action_values.unsqueeze(1))\n",
    "\n",
    "    # Optimize the model\n",
    "    optimizer.zero_grad()\n",
    "    loss.backward()\n",
    "    # In-place gradient clipping\n",
    "    torch.nn.utils.clip_grad_value_(policy_net.parameters(), 100)\n",
    "    optimizer.step()"
   ]
  },
  {
   "cell_type": "markdown",
   "id": "efa9096d-8aab-4125-b872-a2b101cdc1c0",
   "metadata": {},
   "source": [
    "Now when everything is set we can finally train our agent on as many episodes as we require"
   ]
  },
  {
   "cell_type": "code",
   "execution_count": 11,
   "id": "2a0be5c7-6432-43bc-9361-6aa010177b43",
   "metadata": {},
   "outputs": [
    {
     "name": "stdout",
     "output_type": "stream",
     "text": [
      "Complete\n"
     ]
    },
    {
     "data": {
      "image/png": "[encoded data removed]",
      "text/plain": [
       "<Figure size 640x480 with 1 Axes>"
      ]
     },
     "metadata": {},
     "output_type": "display_data"
    },
    {
     "data": {
      "text/plain": [
       "<Figure size 640x480 with 0 Axes>"
      ]
     },
     "metadata": {},
     "output_type": "display_data"
    },
    {
     "data": {
      "text/plain": [
       "<Figure size 640x480 with 0 Axes>"
      ]
     },
     "metadata": {},
     "output_type": "display_data"
    }
   ],
   "source": [
    "num_episodes = 1000\n",
    "\n",
    "for i_episode in range(num_episodes):\n",
    "    # Initialize the environment and get its state\n",
    "    \n",
    "    state, info = env.reset()\n",
    "    state = torch.tensor(state, dtype=torch.float32, device=device).unsqueeze(0)\n",
    "    for t in count():\n",
    "        action = select_action(state)\n",
    "        observation, reward, terminated, truncated, _ = env.step(action.item())\n",
    "        reward = torch.tensor([reward], device=device)\n",
    "        done = terminated or truncated\n",
    "\n",
    "        if terminated:\n",
    "            next_state = None\n",
    "        else:\n",
    "            next_state = torch.tensor(observation, dtype=torch.float32, device=device).unsqueeze(0)\n",
    "\n",
    "        # Store the transition in memory\n",
    "        memory.push(state, action, next_state, reward)\n",
    "\n",
    "        # Move to the next state\n",
    "        state = next_state\n",
    "\n",
    "        # Perform one step of the optimization (on the policy network)\n",
    "        optimize_model()\n",
    "\n",
    "        # Soft update of the target network's weights\n",
    "        # θ′ ← τ θ + (1 −τ )θ′\n",
    "        target_net_state_dict = target_net.state_dict()\n",
    "        policy_net_state_dict = policy_net.state_dict()\n",
    "        for key in policy_net_state_dict:\n",
    "            target_net_state_dict[key] = policy_net_state_dict[key]*TAU + target_net_state_dict[key]*(1-TAU)\n",
    "        target_net.load_state_dict(target_net_state_dict)\n",
    "\n",
    "        if done:\n",
    "            episode_durations.append(t + 1)\n",
    "            plot_durations()\n",
    "            break\n",
    "\n",
    "print('Complete')\n",
    "plot_durations(show_result=True)\n",
    "plt.ioff()\n",
    "plt.show()"
   ]
  },
  {
   "cell_type": "markdown",
   "id": "845840cc-3223-455a-aec9-212e79013bd5",
   "metadata": {},
   "source": [
    "After training the agent use the code below to run it to see the result."
   ]
  },
  {
   "cell_type": "code",
   "execution_count": 16,
   "id": "39bdc91e-9686-492a-966a-8d08c40ebc94",
   "metadata": {},
   "outputs": [
    {
     "name": "stdout",
     "output_type": "stream",
     "text": [
      "Score: 500.0\n"
     ]
    }
   ],
   "source": [
    "env = gym.make('CartPole-v1', render_mode='human')\n",
    "\n",
    "\n",
    "state,info = env.reset()\n",
    "state = torch.tensor(state, dtype=torch.float32, device=device).unsqueeze(0)\n",
    "done = False\n",
    "score = 0\n",
    "\n",
    "while not done:\n",
    "    env.render()  # Ensure rendering happens inside the loop\n",
    "    action = select_action(state)\n",
    "    observation, reward, terminated, truncated, _ = env.step(action.item())\n",
    "    next_state = torch.tensor(observation, dtype=torch.float32, device=device).unsqueeze(0)\n",
    "    done = terminated or truncated\n",
    "    score += reward\n",
    "    state = next_state\n",
    "\n",
    "print('Score: {}'.format(score))\n",
    "\n",
    "env.close() "
   ]
  }
 ],
 "metadata": {
  "kernelspec": {
   "display_name": "Python 3 (ipykernel)",
   "language": "python",
   "name": "python3"
  },
  "language_info": {
   "codemirror_mode": {
    "name": "ipython",
    "version": 3
   },
   "file_extension": ".py",
   "mimetype": "text/x-python",
   "name": "python",
   "nbconvert_exporter": "python",
   "pygments_lexer": "ipython3",
   "version": "3.12.2"
  }
 },
 "nbformat": 4,
 "nbformat_minor": 5
}
